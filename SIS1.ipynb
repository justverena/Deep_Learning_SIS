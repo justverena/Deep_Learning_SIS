{
 "cells": [
  {
   "cell_type": "code",
   "outputs": [],
   "source": [
    "import pandas as pd\n",
    "import numpy as np\n",
    "import matplotlib.pyplot as plt\n",
    "import seaborn as sns\n",
    "\n",
    "\n",
    "from sklearn.model_selection import train_test_split\n",
    "from sklearn.pipeline import Pipeline\n",
    "from sklearn.compose import ColumnTransformer, make_column_selector\n",
    "from sklearn.impute import SimpleImputer\n",
    "from sklearn.preprocessing import OneHotEncoder, StandardScaler\n",
    "\n",
    "from sklearn.dummy import DummyClassifier\n",
    "from sklearn.linear_model import LogisticRegression\n",
    "from sklearn.neighbors import KNeighborsClassifier\n",
    "from sklearn.metrics import accuracy_score, precision_score, recall_score, f1_score, classification_report"
   ],
   "metadata": {
    "collapsed": false
   },
   "id": "d43dde760c3ec4aa"
  },
  {
   "cell_type": "code",
   "outputs": [],
   "source": [
    "# Importing Dataset"
   ],
   "metadata": {
    "collapsed": false,
    "ExecuteTime": {
     "start_time": "2025-09-25T05:29:33.351817200Z"
    }
   },
   "id": "6a851be6eb6db633"
  },
  {
   "cell_type": "code",
   "execution_count": 4,
   "id": "216af633",
   "metadata": {
    "ExecuteTime": {
     "end_time": "2025-09-25T05:40:56.381596200Z",
     "start_time": "2025-09-25T05:40:51.829587100Z"
    }
   },
   "outputs": [],
   "source": [
    "from ucimlrepo import fetch_ucirepo \n",
    "  \n",
    "# fetch dataset \n",
    "predict_students_dropout_and_academic_success = fetch_ucirepo(id=697) \n",
    "  \n",
    "# data (as pandas dataframes) \n",
    "X = predict_students_dropout_and_academic_success.data.features \n",
    "y = predict_students_dropout_and_academic_success.data.targets.squeeze()"
   ]
  },
  {
   "cell_type": "code",
   "execution_count": 5,
   "id": "1a148a1e",
   "metadata": {
    "ExecuteTime": {
     "end_time": "2025-09-25T05:41:03.622352400Z",
     "start_time": "2025-09-25T05:41:03.542134700Z"
    }
   },
   "outputs": [
    {
     "name": "stdout",
     "output_type": "stream",
     "text": [
      "<class 'pandas.core.frame.DataFrame'>\n",
      "RangeIndex: 4424 entries, 0 to 4423\n",
      "Data columns (total 36 columns):\n",
      " #   Column                                          Non-Null Count  Dtype  \n",
      "---  ------                                          --------------  -----  \n",
      " 0   Marital Status                                  4424 non-null   int64  \n",
      " 1   Application mode                                4424 non-null   int64  \n",
      " 2   Application order                               4424 non-null   int64  \n",
      " 3   Course                                          4424 non-null   int64  \n",
      " 4   Daytime/evening attendance                      4424 non-null   int64  \n",
      " 5   Previous qualification                          4424 non-null   int64  \n",
      " 6   Previous qualification (grade)                  4424 non-null   float64\n",
      " 7   Nacionality                                     4424 non-null   int64  \n",
      " 8   Mother's qualification                          4424 non-null   int64  \n",
      " 9   Father's qualification                          4424 non-null   int64  \n",
      " 10  Mother's occupation                             4424 non-null   int64  \n",
      " 11  Father's occupation                             4424 non-null   int64  \n",
      " 12  Admission grade                                 4424 non-null   float64\n",
      " 13  Displaced                                       4424 non-null   int64  \n",
      " 14  Educational special needs                       4424 non-null   int64  \n",
      " 15  Debtor                                          4424 non-null   int64  \n",
      " 16  Tuition fees up to date                         4424 non-null   int64  \n",
      " 17  Gender                                          4424 non-null   int64  \n",
      " 18  Scholarship holder                              4424 non-null   int64  \n",
      " 19  Age at enrollment                               4424 non-null   int64  \n",
      " 20  International                                   4424 non-null   int64  \n",
      " 21  Curricular units 1st sem (credited)             4424 non-null   int64  \n",
      " 22  Curricular units 1st sem (enrolled)             4424 non-null   int64  \n",
      " 23  Curricular units 1st sem (evaluations)          4424 non-null   int64  \n",
      " 24  Curricular units 1st sem (approved)             4424 non-null   int64  \n",
      " 25  Curricular units 1st sem (grade)                4424 non-null   float64\n",
      " 26  Curricular units 1st sem (without evaluations)  4424 non-null   int64  \n",
      " 27  Curricular units 2nd sem (credited)             4424 non-null   int64  \n",
      " 28  Curricular units 2nd sem (enrolled)             4424 non-null   int64  \n",
      " 29  Curricular units 2nd sem (evaluations)          4424 non-null   int64  \n",
      " 30  Curricular units 2nd sem (approved)             4424 non-null   int64  \n",
      " 31  Curricular units 2nd sem (grade)                4424 non-null   float64\n",
      " 32  Curricular units 2nd sem (without evaluations)  4424 non-null   int64  \n",
      " 33  Unemployment rate                               4424 non-null   float64\n",
      " 34  Inflation rate                                  4424 non-null   float64\n",
      " 35  GDP                                             4424 non-null   float64\n",
      "dtypes: float64(7), int64(29)\n",
      "memory usage: 1.2 MB\n"
     ]
    },
    {
     "data": {
      "text/plain": "   Marital Status  Application mode  Application order  Course  \\\n0               1                17                  5     171   \n1               1                15                  1    9254   \n2               1                 1                  5    9070   \n3               1                17                  2    9773   \n4               2                39                  1    8014   \n\n   Daytime/evening attendance  Previous qualification  \\\n0                           1                       1   \n1                           1                       1   \n2                           1                       1   \n3                           1                       1   \n4                           0                       1   \n\n   Previous qualification (grade)  Nacionality  Mother's qualification  \\\n0                           122.0            1                      19   \n1                           160.0            1                       1   \n2                           122.0            1                      37   \n3                           122.0            1                      38   \n4                           100.0            1                      37   \n\n   Father's qualification  ...  \\\n0                      12  ...   \n1                       3  ...   \n2                      37  ...   \n3                      37  ...   \n4                      38  ...   \n\n   Curricular units 1st sem (without evaluations)  \\\n0                                               0   \n1                                               0   \n2                                               0   \n3                                               0   \n4                                               0   \n\n   Curricular units 2nd sem (credited)  Curricular units 2nd sem (enrolled)  \\\n0                                    0                                    0   \n1                                    0                                    6   \n2                                    0                                    6   \n3                                    0                                    6   \n4                                    0                                    6   \n\n   Curricular units 2nd sem (evaluations)  \\\n0                                       0   \n1                                       6   \n2                                       0   \n3                                      10   \n4                                       6   \n\n   Curricular units 2nd sem (approved)  Curricular units 2nd sem (grade)  \\\n0                                    0                          0.000000   \n1                                    6                         13.666667   \n2                                    0                          0.000000   \n3                                    5                         12.400000   \n4                                    6                         13.000000   \n\n   Curricular units 2nd sem (without evaluations)  Unemployment rate  \\\n0                                               0               10.8   \n1                                               0               13.9   \n2                                               0               10.8   \n3                                               0                9.4   \n4                                               0               13.9   \n\n   Inflation rate   GDP  \n0             1.4  1.74  \n1            -0.3  0.79  \n2             1.4  1.74  \n3            -0.8 -3.12  \n4            -0.3  0.79  \n\n[5 rows x 36 columns]",
      "text/html": "<div>\n<style scoped>\n    .dataframe tbody tr th:only-of-type {\n        vertical-align: middle;\n    }\n\n    .dataframe tbody tr th {\n        vertical-align: top;\n    }\n\n    .dataframe thead th {\n        text-align: right;\n    }\n</style>\n<table border=\"1\" class=\"dataframe\">\n  <thead>\n    <tr style=\"text-align: right;\">\n      <th></th>\n      <th>Marital Status</th>\n      <th>Application mode</th>\n      <th>Application order</th>\n      <th>Course</th>\n      <th>Daytime/evening attendance</th>\n      <th>Previous qualification</th>\n      <th>Previous qualification (grade)</th>\n      <th>Nacionality</th>\n      <th>Mother's qualification</th>\n      <th>Father's qualification</th>\n      <th>...</th>\n      <th>Curricular units 1st sem (without evaluations)</th>\n      <th>Curricular units 2nd sem (credited)</th>\n      <th>Curricular units 2nd sem (enrolled)</th>\n      <th>Curricular units 2nd sem (evaluations)</th>\n      <th>Curricular units 2nd sem (approved)</th>\n      <th>Curricular units 2nd sem (grade)</th>\n      <th>Curricular units 2nd sem (without evaluations)</th>\n      <th>Unemployment rate</th>\n      <th>Inflation rate</th>\n      <th>GDP</th>\n    </tr>\n  </thead>\n  <tbody>\n    <tr>\n      <th>0</th>\n      <td>1</td>\n      <td>17</td>\n      <td>5</td>\n      <td>171</td>\n      <td>1</td>\n      <td>1</td>\n      <td>122.0</td>\n      <td>1</td>\n      <td>19</td>\n      <td>12</td>\n      <td>...</td>\n      <td>0</td>\n      <td>0</td>\n      <td>0</td>\n      <td>0</td>\n      <td>0</td>\n      <td>0.000000</td>\n      <td>0</td>\n      <td>10.8</td>\n      <td>1.4</td>\n      <td>1.74</td>\n    </tr>\n    <tr>\n      <th>1</th>\n      <td>1</td>\n      <td>15</td>\n      <td>1</td>\n      <td>9254</td>\n      <td>1</td>\n      <td>1</td>\n      <td>160.0</td>\n      <td>1</td>\n      <td>1</td>\n      <td>3</td>\n      <td>...</td>\n      <td>0</td>\n      <td>0</td>\n      <td>6</td>\n      <td>6</td>\n      <td>6</td>\n      <td>13.666667</td>\n      <td>0</td>\n      <td>13.9</td>\n      <td>-0.3</td>\n      <td>0.79</td>\n    </tr>\n    <tr>\n      <th>2</th>\n      <td>1</td>\n      <td>1</td>\n      <td>5</td>\n      <td>9070</td>\n      <td>1</td>\n      <td>1</td>\n      <td>122.0</td>\n      <td>1</td>\n      <td>37</td>\n      <td>37</td>\n      <td>...</td>\n      <td>0</td>\n      <td>0</td>\n      <td>6</td>\n      <td>0</td>\n      <td>0</td>\n      <td>0.000000</td>\n      <td>0</td>\n      <td>10.8</td>\n      <td>1.4</td>\n      <td>1.74</td>\n    </tr>\n    <tr>\n      <th>3</th>\n      <td>1</td>\n      <td>17</td>\n      <td>2</td>\n      <td>9773</td>\n      <td>1</td>\n      <td>1</td>\n      <td>122.0</td>\n      <td>1</td>\n      <td>38</td>\n      <td>37</td>\n      <td>...</td>\n      <td>0</td>\n      <td>0</td>\n      <td>6</td>\n      <td>10</td>\n      <td>5</td>\n      <td>12.400000</td>\n      <td>0</td>\n      <td>9.4</td>\n      <td>-0.8</td>\n      <td>-3.12</td>\n    </tr>\n    <tr>\n      <th>4</th>\n      <td>2</td>\n      <td>39</td>\n      <td>1</td>\n      <td>8014</td>\n      <td>0</td>\n      <td>1</td>\n      <td>100.0</td>\n      <td>1</td>\n      <td>37</td>\n      <td>38</td>\n      <td>...</td>\n      <td>0</td>\n      <td>0</td>\n      <td>6</td>\n      <td>6</td>\n      <td>6</td>\n      <td>13.000000</td>\n      <td>0</td>\n      <td>13.9</td>\n      <td>-0.3</td>\n      <td>0.79</td>\n    </tr>\n  </tbody>\n</table>\n<p>5 rows × 36 columns</p>\n</div>"
     },
     "execution_count": 5,
     "metadata": {},
     "output_type": "execute_result"
    }
   ],
   "source": [
    "X.info()\n",
    "X.head()"
   ]
  },
  {
   "cell_type": "code",
   "outputs": [],
   "source": [
    "# Splitting the data into training and testing subsets"
   ],
   "metadata": {
    "collapsed": false,
    "ExecuteTime": {
     "start_time": "2025-09-25T05:29:33.357577900Z"
    }
   },
   "id": "40967d2590a28577"
  },
  {
   "cell_type": "code",
   "execution_count": null,
   "id": "3bf3e726",
   "metadata": {
    "ExecuteTime": {
     "start_time": "2025-09-25T05:29:33.359971300Z"
    }
   },
   "outputs": [],
   "source": [
    "X_train, X_test, y_train, y_test = train_test_split(\n",
    "    X, y, test_size=0.2, stratify=y, random_state=42\n",
    ")"
   ]
  },
  {
   "cell_type": "code",
   "outputs": [],
   "source": [
    "# Preprocessing data using Pipeline"
   ],
   "metadata": {
    "collapsed": false,
    "ExecuteTime": {
     "start_time": "2025-09-25T05:29:33.362344700Z"
    }
   },
   "id": "cb478f500897f096"
  },
  {
   "cell_type": "code",
   "execution_count": null,
   "id": "3274b3da",
   "metadata": {
    "ExecuteTime": {
     "start_time": "2025-09-25T05:29:33.365395400Z"
    }
   },
   "outputs": [],
   "source": [
    "# --- Make sure y is 1-D on the split pieces (defensive) ---\n",
    "y_train = np.ravel(y_train) if hasattr(y_train, \"values\") else y_train\n",
    "y_test  = np.ravel(y_test)  if hasattr(y_test, \"values\")  else y_test\n",
    "\n",
    "# --- Select numeric vs categorical columns from the training frame ---\n",
    "num_cols = make_column_selector(dtype_include=np.number)(X_train)\n",
    "cat_cols = make_column_selector(dtype_exclude=np.number)(X_train)\n",
    "\n",
    "print(\"Numeric columns:\", num_cols)\n",
    "print(\"Categorical columns:\", cat_cols)\n",
    "\n",
    "# --- Build preprocessing: impute+scale for numeric, impute+one-hot for categorical ---\n",
    "numeric_pipe = Pipeline(steps=[\n",
    "    (\"imputer\", SimpleImputer(strategy=\"median\")),\n",
    "    (\"scaler\", StandardScaler())\n",
    "])\n",
    "\n",
    "categorical_pipe = Pipeline(steps=[\n",
    "    (\"imputer\", SimpleImputer(strategy=\"most_frequent\")),\n",
    "    (\"ohe\", OneHotEncoder(handle_unknown=\"ignore\"))\n",
    "])\n",
    "\n",
    "preprocess = ColumnTransformer(\n",
    "    transformers=[\n",
    "        (\"num\", numeric_pipe, num_cols),\n",
    "        (\"cat\", categorical_pipe, cat_cols),\n",
    "    ],\n",
    "    remainder=\"drop\"\n",
    ")\n"
   ]
  },
  {
   "cell_type": "code",
   "outputs": [],
   "source": [
    "# Defining a baseline model with DummyClassifier"
   ],
   "metadata": {
    "collapsed": false,
    "ExecuteTime": {
     "end_time": "2025-09-25T05:29:33.367556300Z",
     "start_time": "2025-09-25T05:29:33.365395400Z"
    }
   },
   "id": "125e951690773839"
  },
  {
   "cell_type": "code",
   "execution_count": 6,
   "id": "f4053a6f",
   "metadata": {
    "ExecuteTime": {
     "end_time": "2025-09-25T05:54:34.970205900Z",
     "start_time": "2025-09-25T05:54:34.933435600Z"
    }
   },
   "outputs": [],
   "source": [
    "# baseline = DummyClassifier(strategy=\"most_frequent\")\n",
    "# baseline.fit(X_train, y_train)\n",
    "# y_pred_baseline = baseline.predict(X_test)\n",
    "# print(\"Baseline (DummyClassifier) Accuracy:\", accuracy_score(y_test, y_pred_baseline))\n",
    "baseline_pipe = Pipeline(steps=[\n",
    "    (\"prep\", preprocess),\n",
    "    (\"clf\", DummyClassifier(strategy=\"most_frequent\", random_state=42))\n",
    "])\n",
    "baseline_pipe.fit(X_train, y_train)\n",
    "y_pred_baseline = baseline_pipe.predict(X_test)\n",
    "print(\"Baseline (Dummy) Accuracy:\", accuracy_score(y_test, y_pred_baseline))\n",
    "print(classification_report(y_test, y_pred_baseline, zero_division=0))\n"
   ]
  },
  {
   "cell_type": "code",
   "outputs": [],
   "source": [
    "# Building and comparing at least two classifiers (Logistic Regression and k-NN)"
   ],
   "metadata": {
    "collapsed": false,
    "ExecuteTime": {
     "start_time": "2025-09-25T05:29:33.368632800Z"
    }
   },
   "id": "cdcbf4fb7e22e1c2"
  },
  {
   "cell_type": "code",
   "execution_count": null,
   "id": "8d59f9e2",
   "metadata": {
    "ExecuteTime": {
     "start_time": "2025-09-25T05:29:33.369733100Z"
    }
   },
   "outputs": [],
   "source": [
    "# log_reg = LogisticRegression(max_iter=10000, solver=\"saga\")\n",
    "# log_reg.fit(X_train, y_train)\n",
    "# y_pred_logreg = log_reg.predict(X_test)\n",
    "# print(\"\\nLogistic Regression Accuracy:\", accuracy_score(y_test, y_pred_logreg))\n",
    "# print(classification_report(y_test, y_pred_logreg))\n",
    "log_reg_pipe = Pipeline(steps=[\n",
    "    (\"prep\", preprocess),\n",
    "    (\"clf\", LogisticRegression(max_iter=10000, solver=\"saga\", random_state=42))\n",
    "])\n",
    "log_reg_pipe.fit(X_train, y_train)\n",
    "y_pred_logreg = log_reg_pipe.predict(X_test)\n",
    "print(\"\\nLogistic Regression Accuracy:\", accuracy_score(y_test, y_pred_logreg))\n",
    "print(classification_report(y_test, y_pred_logreg, zero_division=0))\n",
    "\n",
    "\n",
    "\n",
    "# knn = KNeighborsClassifier(n_neighbors=5)\n",
    "# knn.fit(X_train, y_train)\n",
    "# y_pred_knn = knn.predict(X_test)\n",
    "# print(\"\\nKNN Accuracy:\", accuracy_score(y_test, y_pred_knn))\n",
    "# print(classification_report(y_test, y_pred_knn))\n",
    "knn_pipe = Pipeline(steps=[\n",
    "    (\"prep\", preprocess),\n",
    "    (\"clf\", KNeighborsClassifier(n_neighbors=5))\n",
    "])\n",
    "knn_pipe.fit(X_train, y_train)\n",
    "y_pred_knn = knn_pipe.predict(X_test)\n",
    "print(\"\\nKNN Accuracy:\", accuracy_score(y_test, y_pred_knn))\n",
    "print(classification_report(y_test, y_pred_knn, zero_division=0))\n"
   ]
  }
 ],
 "metadata": {
  "kernelspec": {
   "display_name": "myenv",
   "language": "python",
   "name": "python3"
  },
  "language_info": {
   "codemirror_mode": {
    "name": "ipython",
    "version": 3
   },
   "file_extension": ".py",
   "mimetype": "text/x-python",
   "name": "python",
   "nbconvert_exporter": "python",
   "pygments_lexer": "ipython3",
   "version": "3.9.6"
  }
 },
 "nbformat": 4,
 "nbformat_minor": 5
}
