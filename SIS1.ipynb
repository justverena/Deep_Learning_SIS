{
 "cells": [
  {
   "cell_type": "code",
   "execution_count": 3,
   "id": "d43dde760c3ec4aa",
   "metadata": {
    "collapsed": false
   },
   "outputs": [],
   "source": [
    "import pandas as pd\n",
    "import numpy as np\n",
    "import matplotlib.pyplot as plt\n",
    "import seaborn as sns\n",
    "\n",
    "\n",
    "from sklearn.model_selection import train_test_split\n",
    "from sklearn.pipeline import Pipeline\n",
    "from sklearn.compose import ColumnTransformer, make_column_selector\n",
    "from sklearn.impute import SimpleImputer\n",
    "from sklearn.preprocessing import OneHotEncoder, StandardScaler\n",
    "from sklearn.model_selection import GridSearchCV, StratifiedKFold\n",
    "\n",
    "from sklearn.dummy import DummyClassifier\n",
    "from sklearn.linear_model import LogisticRegression\n",
    "from sklearn.neighbors import KNeighborsClassifier\n",
    "from sklearn.metrics import accuracy_score, precision_score, recall_score, f1_score, classification_report"
   ]
  },
  {
   "cell_type": "markdown",
   "id": "6a851be6eb6db633",
   "metadata": {
    "ExecuteTime": {
     "start_time": "2025-09-25T05:29:33.351817200Z"
    },
    "collapsed": false
   },
   "source": [
    "# Importing Dataset"
   ]
  },
  {
   "cell_type": "code",
   "execution_count": 4,
   "id": "216af633",
   "metadata": {
    "ExecuteTime": {
     "end_time": "2025-09-25T05:40:56.381596200Z",
     "start_time": "2025-09-25T05:40:51.829587100Z"
    }
   },
   "outputs": [],
   "source": [
    "from ucimlrepo import fetch_ucirepo \n",
    "  \n",
    "# fetch dataset \n",
    "predict_students_dropout_and_academic_success = fetch_ucirepo(id=697) \n",
    "  \n",
    "# data (as pandas dataframes) \n",
    "X = predict_students_dropout_and_academic_success.data.features \n",
    "y = predict_students_dropout_and_academic_success.data.targets.squeeze()"
   ]
  },
  {
   "cell_type": "code",
   "execution_count": null,
   "id": "1a148a1e",
   "metadata": {
    "ExecuteTime": {
     "end_time": "2025-09-25T05:41:03.622352400Z",
     "start_time": "2025-09-25T05:41:03.542134700Z"
    }
   },
   "outputs": [
    {
     "name": "stdout",
     "output_type": "stream",
     "text": [
      "<class 'pandas.core.frame.DataFrame'>\n",
      "RangeIndex: 4424 entries, 0 to 4423\n",
      "Data columns (total 36 columns):\n",
      " #   Column                                          Non-Null Count  Dtype  \n",
      "---  ------                                          --------------  -----  \n",
      " 0   Marital Status                                  4424 non-null   int64  \n",
      " 1   Application mode                                4424 non-null   int64  \n",
      " 2   Application order                               4424 non-null   int64  \n",
      " 3   Course                                          4424 non-null   int64  \n",
      " 4   Daytime/evening attendance                      4424 non-null   int64  \n",
      " 5   Previous qualification                          4424 non-null   int64  \n",
      " 6   Previous qualification (grade)                  4424 non-null   float64\n",
      " 7   Nacionality                                     4424 non-null   int64  \n",
      " 8   Mother's qualification                          4424 non-null   int64  \n",
      " 9   Father's qualification                          4424 non-null   int64  \n",
      " 10  Mother's occupation                             4424 non-null   int64  \n",
      " 11  Father's occupation                             4424 non-null   int64  \n",
      " 12  Admission grade                                 4424 non-null   float64\n",
      " 13  Displaced                                       4424 non-null   int64  \n",
      " 14  Educational special needs                       4424 non-null   int64  \n",
      " 15  Debtor                                          4424 non-null   int64  \n",
      " 16  Tuition fees up to date                         4424 non-null   int64  \n",
      " 17  Gender                                          4424 non-null   int64  \n",
      " 18  Scholarship holder                              4424 non-null   int64  \n",
      " 19  Age at enrollment                               4424 non-null   int64  \n",
      " 20  International                                   4424 non-null   int64  \n",
      " 21  Curricular units 1st sem (credited)             4424 non-null   int64  \n",
      " 22  Curricular units 1st sem (enrolled)             4424 non-null   int64  \n",
      " 23  Curricular units 1st sem (evaluations)          4424 non-null   int64  \n",
      " 24  Curricular units 1st sem (approved)             4424 non-null   int64  \n",
      " 25  Curricular units 1st sem (grade)                4424 non-null   float64\n",
      " 26  Curricular units 1st sem (without evaluations)  4424 non-null   int64  \n",
      " 27  Curricular units 2nd sem (credited)             4424 non-null   int64  \n",
      " 28  Curricular units 2nd sem (enrolled)             4424 non-null   int64  \n",
      " 29  Curricular units 2nd sem (evaluations)          4424 non-null   int64  \n",
      " 30  Curricular units 2nd sem (approved)             4424 non-null   int64  \n",
      " 31  Curricular units 2nd sem (grade)                4424 non-null   float64\n",
      " 32  Curricular units 2nd sem (without evaluations)  4424 non-null   int64  \n",
      " 33  Unemployment rate                               4424 non-null   float64\n",
      " 34  Inflation rate                                  4424 non-null   float64\n",
      " 35  GDP                                             4424 non-null   float64\n",
      "dtypes: float64(7), int64(29)\n",
      "memory usage: 1.2 MB\n"
     ]
    },
    {
     "data": {
      "text/html": [
       "<div>\n",
       "<style scoped>\n",
       "    .dataframe tbody tr th:only-of-type {\n",
       "        vertical-align: middle;\n",
       "    }\n",
       "\n",
       "    .dataframe tbody tr th {\n",
       "        vertical-align: top;\n",
       "    }\n",
       "\n",
       "    .dataframe thead th {\n",
       "        text-align: right;\n",
       "    }\n",
       "</style>\n",
       "<table border=\"1\" class=\"dataframe\">\n",
       "  <thead>\n",
       "    <tr style=\"text-align: right;\">\n",
       "      <th></th>\n",
       "      <th>Marital Status</th>\n",
       "      <th>Application mode</th>\n",
       "      <th>Application order</th>\n",
       "      <th>Course</th>\n",
       "      <th>Daytime/evening attendance</th>\n",
       "      <th>Previous qualification</th>\n",
       "      <th>Previous qualification (grade)</th>\n",
       "      <th>Nacionality</th>\n",
       "      <th>Mother's qualification</th>\n",
       "      <th>Father's qualification</th>\n",
       "      <th>...</th>\n",
       "      <th>Curricular units 1st sem (without evaluations)</th>\n",
       "      <th>Curricular units 2nd sem (credited)</th>\n",
       "      <th>Curricular units 2nd sem (enrolled)</th>\n",
       "      <th>Curricular units 2nd sem (evaluations)</th>\n",
       "      <th>Curricular units 2nd sem (approved)</th>\n",
       "      <th>Curricular units 2nd sem (grade)</th>\n",
       "      <th>Curricular units 2nd sem (without evaluations)</th>\n",
       "      <th>Unemployment rate</th>\n",
       "      <th>Inflation rate</th>\n",
       "      <th>GDP</th>\n",
       "    </tr>\n",
       "  </thead>\n",
       "  <tbody>\n",
       "    <tr>\n",
       "      <th>0</th>\n",
       "      <td>1</td>\n",
       "      <td>17</td>\n",
       "      <td>5</td>\n",
       "      <td>171</td>\n",
       "      <td>1</td>\n",
       "      <td>1</td>\n",
       "      <td>122.0</td>\n",
       "      <td>1</td>\n",
       "      <td>19</td>\n",
       "      <td>12</td>\n",
       "      <td>...</td>\n",
       "      <td>0</td>\n",
       "      <td>0</td>\n",
       "      <td>0</td>\n",
       "      <td>0</td>\n",
       "      <td>0</td>\n",
       "      <td>0.000000</td>\n",
       "      <td>0</td>\n",
       "      <td>10.8</td>\n",
       "      <td>1.4</td>\n",
       "      <td>1.74</td>\n",
       "    </tr>\n",
       "    <tr>\n",
       "      <th>1</th>\n",
       "      <td>1</td>\n",
       "      <td>15</td>\n",
       "      <td>1</td>\n",
       "      <td>9254</td>\n",
       "      <td>1</td>\n",
       "      <td>1</td>\n",
       "      <td>160.0</td>\n",
       "      <td>1</td>\n",
       "      <td>1</td>\n",
       "      <td>3</td>\n",
       "      <td>...</td>\n",
       "      <td>0</td>\n",
       "      <td>0</td>\n",
       "      <td>6</td>\n",
       "      <td>6</td>\n",
       "      <td>6</td>\n",
       "      <td>13.666667</td>\n",
       "      <td>0</td>\n",
       "      <td>13.9</td>\n",
       "      <td>-0.3</td>\n",
       "      <td>0.79</td>\n",
       "    </tr>\n",
       "    <tr>\n",
       "      <th>2</th>\n",
       "      <td>1</td>\n",
       "      <td>1</td>\n",
       "      <td>5</td>\n",
       "      <td>9070</td>\n",
       "      <td>1</td>\n",
       "      <td>1</td>\n",
       "      <td>122.0</td>\n",
       "      <td>1</td>\n",
       "      <td>37</td>\n",
       "      <td>37</td>\n",
       "      <td>...</td>\n",
       "      <td>0</td>\n",
       "      <td>0</td>\n",
       "      <td>6</td>\n",
       "      <td>0</td>\n",
       "      <td>0</td>\n",
       "      <td>0.000000</td>\n",
       "      <td>0</td>\n",
       "      <td>10.8</td>\n",
       "      <td>1.4</td>\n",
       "      <td>1.74</td>\n",
       "    </tr>\n",
       "    <tr>\n",
       "      <th>3</th>\n",
       "      <td>1</td>\n",
       "      <td>17</td>\n",
       "      <td>2</td>\n",
       "      <td>9773</td>\n",
       "      <td>1</td>\n",
       "      <td>1</td>\n",
       "      <td>122.0</td>\n",
       "      <td>1</td>\n",
       "      <td>38</td>\n",
       "      <td>37</td>\n",
       "      <td>...</td>\n",
       "      <td>0</td>\n",
       "      <td>0</td>\n",
       "      <td>6</td>\n",
       "      <td>10</td>\n",
       "      <td>5</td>\n",
       "      <td>12.400000</td>\n",
       "      <td>0</td>\n",
       "      <td>9.4</td>\n",
       "      <td>-0.8</td>\n",
       "      <td>-3.12</td>\n",
       "    </tr>\n",
       "    <tr>\n",
       "      <th>4</th>\n",
       "      <td>2</td>\n",
       "      <td>39</td>\n",
       "      <td>1</td>\n",
       "      <td>8014</td>\n",
       "      <td>0</td>\n",
       "      <td>1</td>\n",
       "      <td>100.0</td>\n",
       "      <td>1</td>\n",
       "      <td>37</td>\n",
       "      <td>38</td>\n",
       "      <td>...</td>\n",
       "      <td>0</td>\n",
       "      <td>0</td>\n",
       "      <td>6</td>\n",
       "      <td>6</td>\n",
       "      <td>6</td>\n",
       "      <td>13.000000</td>\n",
       "      <td>0</td>\n",
       "      <td>13.9</td>\n",
       "      <td>-0.3</td>\n",
       "      <td>0.79</td>\n",
       "    </tr>\n",
       "  </tbody>\n",
       "</table>\n",
       "<p>5 rows × 36 columns</p>\n",
       "</div>"
      ],
      "text/plain": [
       "   Marital Status  Application mode  Application order  Course  \\\n",
       "0               1                17                  5     171   \n",
       "1               1                15                  1    9254   \n",
       "2               1                 1                  5    9070   \n",
       "3               1                17                  2    9773   \n",
       "4               2                39                  1    8014   \n",
       "\n",
       "   Daytime/evening attendance  Previous qualification  \\\n",
       "0                           1                       1   \n",
       "1                           1                       1   \n",
       "2                           1                       1   \n",
       "3                           1                       1   \n",
       "4                           0                       1   \n",
       "\n",
       "   Previous qualification (grade)  Nacionality  Mother's qualification  \\\n",
       "0                           122.0            1                      19   \n",
       "1                           160.0            1                       1   \n",
       "2                           122.0            1                      37   \n",
       "3                           122.0            1                      38   \n",
       "4                           100.0            1                      37   \n",
       "\n",
       "   Father's qualification  ...  \\\n",
       "0                      12  ...   \n",
       "1                       3  ...   \n",
       "2                      37  ...   \n",
       "3                      37  ...   \n",
       "4                      38  ...   \n",
       "\n",
       "   Curricular units 1st sem (without evaluations)  \\\n",
       "0                                               0   \n",
       "1                                               0   \n",
       "2                                               0   \n",
       "3                                               0   \n",
       "4                                               0   \n",
       "\n",
       "   Curricular units 2nd sem (credited)  Curricular units 2nd sem (enrolled)  \\\n",
       "0                                    0                                    0   \n",
       "1                                    0                                    6   \n",
       "2                                    0                                    6   \n",
       "3                                    0                                    6   \n",
       "4                                    0                                    6   \n",
       "\n",
       "   Curricular units 2nd sem (evaluations)  \\\n",
       "0                                       0   \n",
       "1                                       6   \n",
       "2                                       0   \n",
       "3                                      10   \n",
       "4                                       6   \n",
       "\n",
       "   Curricular units 2nd sem (approved)  Curricular units 2nd sem (grade)  \\\n",
       "0                                    0                          0.000000   \n",
       "1                                    6                         13.666667   \n",
       "2                                    0                          0.000000   \n",
       "3                                    5                         12.400000   \n",
       "4                                    6                         13.000000   \n",
       "\n",
       "   Curricular units 2nd sem (without evaluations)  Unemployment rate  \\\n",
       "0                                               0               10.8   \n",
       "1                                               0               13.9   \n",
       "2                                               0               10.8   \n",
       "3                                               0                9.4   \n",
       "4                                               0               13.9   \n",
       "\n",
       "   Inflation rate   GDP  \n",
       "0             1.4  1.74  \n",
       "1            -0.3  0.79  \n",
       "2             1.4  1.74  \n",
       "3            -0.8 -3.12  \n",
       "4            -0.3  0.79  \n",
       "\n",
       "[5 rows x 36 columns]"
      ]
     },
     "execution_count": 3,
     "metadata": {},
     "output_type": "execute_result"
    }
   ],
   "source": [
    "X.info()\n",
    "X.head()"
   ]
  },
  {
   "cell_type": "markdown",
   "id": "40967d2590a28577",
   "metadata": {
    "ExecuteTime": {
     "start_time": "2025-09-25T05:29:33.357577900Z"
    },
    "collapsed": false
   },
   "source": [
    "# Splitting the data into training and testing subsets"
   ]
  },
  {
   "cell_type": "code",
   "execution_count": 5,
   "id": "3bf3e726",
   "metadata": {
    "ExecuteTime": {
     "start_time": "2025-09-25T05:29:33.359971300Z"
    }
   },
   "outputs": [],
   "source": [
    "X_train, X_test, y_train, y_test = train_test_split(\n",
    "    X, y, test_size=0.2, stratify=y, random_state=42\n",
    ")"
   ]
  },
  {
   "cell_type": "markdown",
   "id": "cb478f500897f096",
   "metadata": {
    "ExecuteTime": {
     "start_time": "2025-09-25T05:29:33.362344700Z"
    },
    "collapsed": false
   },
   "source": [
    "# Preprocessing data using Pipeline"
   ]
  },
  {
   "cell_type": "code",
   "execution_count": 6,
   "id": "3274b3da",
   "metadata": {
    "ExecuteTime": {
     "start_time": "2025-09-25T05:29:33.365395400Z"
    }
   },
   "outputs": [
    {
     "name": "stdout",
     "output_type": "stream",
     "text": [
      "Numeric columns: ['Marital Status', 'Application mode', 'Application order', 'Course', 'Daytime/evening attendance', 'Previous qualification', 'Previous qualification (grade)', 'Nacionality', \"Mother's qualification\", \"Father's qualification\", \"Mother's occupation\", \"Father's occupation\", 'Admission grade', 'Displaced', 'Educational special needs', 'Debtor', 'Tuition fees up to date', 'Gender', 'Scholarship holder', 'Age at enrollment', 'International', 'Curricular units 1st sem (credited)', 'Curricular units 1st sem (enrolled)', 'Curricular units 1st sem (evaluations)', 'Curricular units 1st sem (approved)', 'Curricular units 1st sem (grade)', 'Curricular units 1st sem (without evaluations)', 'Curricular units 2nd sem (credited)', 'Curricular units 2nd sem (enrolled)', 'Curricular units 2nd sem (evaluations)', 'Curricular units 2nd sem (approved)', 'Curricular units 2nd sem (grade)', 'Curricular units 2nd sem (without evaluations)', 'Unemployment rate', 'Inflation rate', 'GDP']\n",
      "Categorical columns: []\n"
     ]
    }
   ],
   "source": [
    "# Make sure y is 1-D on the split pieces (defensive)\n",
    "y_train = np.ravel(y_train) if hasattr(y_train, \"values\") else y_train\n",
    "y_test  = np.ravel(y_test)  if hasattr(y_test, \"values\")  else y_test\n",
    "\n",
    "# Select numeric vs categorical columns from the training frame\n",
    "num_cols = make_column_selector(dtype_include=np.number)(X_train)\n",
    "cat_cols = make_column_selector(dtype_exclude=np.number)(X_train)\n",
    "\n",
    "print(\"Numeric columns:\", num_cols)\n",
    "print(\"Categorical columns:\", cat_cols)\n",
    "\n",
    "# Build preprocessing: impute+scale for numeric, impute+one-hot for categorical\n",
    "numeric_pipe = Pipeline(steps=[\n",
    "    (\"imputer\", SimpleImputer(strategy=\"median\")),\n",
    "    (\"scaler\", StandardScaler())\n",
    "])\n",
    "\n",
    "categorical_pipe = Pipeline(steps=[\n",
    "    (\"imputer\", SimpleImputer(strategy=\"most_frequent\")),\n",
    "    (\"ohe\", OneHotEncoder(handle_unknown=\"ignore\"))\n",
    "])\n",
    "\n",
    "preprocess = ColumnTransformer(\n",
    "    transformers=[\n",
    "        (\"num\", numeric_pipe, num_cols),\n",
    "        (\"cat\", categorical_pipe, cat_cols),\n",
    "    ],\n",
    "    remainder=\"drop\"\n",
    ")\n"
   ]
  },
  {
   "cell_type": "markdown",
   "id": "125e951690773839",
   "metadata": {
    "ExecuteTime": {
     "end_time": "2025-09-25T05:29:33.367556300Z",
     "start_time": "2025-09-25T05:29:33.365395400Z"
    },
    "collapsed": false
   },
   "source": [
    "# Defining a baseline model with DummyClassifier"
   ]
  },
  {
   "cell_type": "code",
   "execution_count": 7,
   "id": "f4053a6f",
   "metadata": {
    "ExecuteTime": {
     "end_time": "2025-09-25T05:54:34.970205900Z",
     "start_time": "2025-09-25T05:54:34.933435600Z"
    }
   },
   "outputs": [],
   "source": [
    "baseline_pipe = Pipeline(steps=[\n",
    "    (\"prep\", preprocess),\n",
    "    (\"clf\", DummyClassifier(strategy=\"most_frequent\"))\n",
    "])\n",
    "baseline_pipe.fit(X_train, y_train)\n",
    "y_pred_baseline = baseline_pipe.predict(X_test)\n"
   ]
  },
  {
   "cell_type": "markdown",
   "id": "cdcbf4fb7e22e1c2",
   "metadata": {
    "ExecuteTime": {
     "start_time": "2025-09-25T05:29:33.368632800Z"
    },
    "collapsed": false
   },
   "source": [
    "# Building and comparing Logistic Regression and k-NN\n",
    "### Calculating table of Accuracy, Precision, Recall, and F1-score"
   ]
  },
  {
   "cell_type": "code",
   "execution_count": 8,
   "id": "8d59f9e2",
   "metadata": {
    "ExecuteTime": {
     "start_time": "2025-09-25T05:29:33.369733100Z"
    }
   },
   "outputs": [
    {
     "name": "stdout",
     "output_type": "stream",
     "text": [
      "\n",
      "Model Comparison without hyperparamters:\n",
      "                    accuracy  precision    recall        f1\n",
      "DummyClassifier     0.499435   0.166478  0.333333  0.222055\n",
      "LogisticRegression  0.768362   0.707005  0.675426  0.682601\n",
      "k-NN                0.667797   0.580154  0.571895  0.573015\n"
     ]
    }
   ],
   "source": [
    "def get_metrics(y_true, y_pred, average=\"macro\"):\n",
    "    return {\n",
    "        \"accuracy\": accuracy_score(y_true, y_pred),\n",
    "        \"precision\": precision_score(y_true, y_pred, average=average, zero_division=0),\n",
    "        \"recall\": recall_score(y_true, y_pred, average=average, zero_division=0),\n",
    "        \"f1\": f1_score(y_true, y_pred, average=average, zero_division=0)\n",
    "    }\n",
    "\n",
    "log_reg = Pipeline(steps=[\n",
    "    (\"prep\", preprocess),\n",
    "    (\"clf\", LogisticRegression(max_iter=2000, random_state=42))\n",
    "])\n",
    "log_reg.fit(X_train, y_train)\n",
    "y_pred_logreg = log_reg.predict(X_test)\n",
    "\n",
    "knn = Pipeline(steps=[\n",
    "    (\"prep\", preprocess),\n",
    "    (\"clf\", KNeighborsClassifier(n_neighbors=5))\n",
    "])\n",
    "knn.fit(X_train, y_train)\n",
    "y_pred_knn = knn.predict(X_test)\n",
    "\n",
    "results = {\n",
    "    \"DummyClassifier\": get_metrics(y_test, y_pred_baseline),\n",
    "    \"LogisticRegression\": get_metrics(y_test, y_pred_logreg),\n",
    "    \"k-NN\": get_metrics(y_test, y_pred_knn)\n",
    "}\n",
    "results_df = pd.DataFrame(results).T\n",
    "print(\"\\nModel Comparison without hyperparamters:\")\n",
    "print(results_df)"
   ]
  },
  {
   "cell_type": "markdown",
   "id": "30160305",
   "metadata": {},
   "source": [
    "# Tuning hyperparameters"
   ]
  },
  {
   "cell_type": "code",
   "execution_count": 13,
   "id": "9ced2f74",
   "metadata": {},
   "outputs": [
    {
     "name": "stdout",
     "output_type": "stream",
     "text": [
      "Fitting 5 folds for each of 10 candidates, totalling 50 fits\n",
      "Best params (Logistic Regression):  {'clf__C': 10, 'clf__penalty': 'l2', 'clf__solver': 'lbfgs'}\n",
      "Best CV f1_macro (LogReg): 0.6758\n",
      "Fitting 5 folds for each of 20 candidates, totalling 100 fits\n",
      "Best params (k-NN): {'clf__n_neighbors': 5, 'clf__p': 1, 'clf__weights': 'uniform'}\n",
      "Best CV f1_macro (k-NN): 0.6331\n"
     ]
    }
   ],
   "source": [
    "# Set up cv and scoring \n",
    "#5-fold stratified CV for classification \n",
    "from sklearn.model_selection import StratifiedKFold\n",
    "\n",
    "cv = StratifiedKFold(n_splits=5, shuffle=True, random_state=42) \n",
    "#multiple scores just to inspect,then refit on the most important one \n",
    "scoring = {\n",
    "    \"accuracy\": \"accuracy\", \n",
    "    \"f1_macro\": \"f1_macro\", \n",
    "    \"precision_macro\": \"precision_macro\", \n",
    "    \"recall_macro\": \"recall_macro\" \n",
    "}\n",
    "\n",
    "refit_metric = \"f1_macro\" #the main one, since treats classes equally \n",
    "\n",
    "#Tune Logistic Regression (small efficient grid)\n",
    "pipe_lr = Pipeline(steps = [(\"prep\", preprocess), (\"clf\", LogisticRegression(max_iter=4000, random_state=42))])\n",
    "\n",
    "param_grid_lr = {\n",
    "    \"clf__C\": [0.01, 0.1, 1, 10, 100], \n",
    "    \"clf__solver\": [\"lbfgs\", \"liblinear\"], \n",
    "    \"clf__penalty\": [\"l2\"]\n",
    "}\n",
    "\n",
    "grid_lr = GridSearchCV(estimator=pipe_lr,\n",
    "                       param_grid=param_grid_lr, \n",
    "                       scoring=scoring, \n",
    "                       refit=refit_metric, \n",
    "                       cv=cv, \n",
    "                       n_jobs=-1,\n",
    "                       verbose=1\n",
    "                       )\n",
    "\n",
    "grid_lr.fit(X_train, y_train) \n",
    "\n",
    "print(\"Best params (Logistic Regression): \", grid_lr.best_params_) \n",
    "print(f\"Best CV {refit_metric} (LogReg): {grid_lr.best_score_:.4f}\")\n",
    "\n",
    "best_lr = grid_lr.best_estimator_ \n",
    "\n",
    "#tune k-nearest Neighbors (distance, neighbors, metric)\n",
    "pipe_knn = Pipeline (steps = [(\"prep\", preprocess), (\"clf\", KNeighborsClassifier())]) \n",
    "\n",
    "param_grid_knn = {\n",
    "    \"clf__n_neighbors\": [3, 5, 7, 9, 15], \n",
    "    \"clf__weights\": [\"uniform\", \"distance\"], \n",
    "    \"clf__p\": [1, 2] \n",
    "}\n",
    "\n",
    "grid_knn = GridSearchCV(estimator=pipe_knn, \n",
    "                        param_grid=param_grid_knn, \n",
    "                        scoring=scoring, \n",
    "                        refit=refit_metric, \n",
    "                        cv=cv, \n",
    "                        n_jobs=-1, \n",
    "                        verbose=1\n",
    "                        )\n",
    "\n",
    "grid_knn.fit(X_train, y_train)\n",
    "\n",
    "print(\"Best params (k-NN):\", grid_knn.best_params_) \n",
    "print(f\"Best CV {refit_metric} (k-NN): {grid_knn.best_score_:.4f}\")\n",
    "\n",
    "best_knn = grid_knn.best_estimator_"
   ]
  },
  {
   "cell_type": "code",
   "execution_count": null,
   "id": "f04b025f",
   "metadata": {},
   "outputs": [],
   "source": []
  },
  {
   "cell_type": "markdown",
   "id": "c2d6af99",
   "metadata": {},
   "source": [
    "# Evaluating and interpreting results with metrics"
   ]
  },
  {
   "cell_type": "code",
   "execution_count": 14,
   "id": "88f73d8a",
   "metadata": {},
   "outputs": [
    {
     "name": "stdout",
     "output_type": "stream",
     "text": [
      "=== LogReg (tuned) - Test Metrics ===\n",
      "Accuracy: 0.7718\n",
      "Averages:\n",
      "macro     P=0.7130 R=0.6804  F1=0.6882\n",
      "micro     P=0.7718 R=0.7718  F1=0.7718\n",
      "weighted  P=0.7544 R=0.7718  F1=0.7571\n",
      "\n",
      "Per-class classification report:\n",
      "              precision    recall  f1-score   support\n",
      "\n",
      "     Dropout       0.79      0.77      0.78       284\n",
      "    Enrolled       0.54      0.35      0.42       159\n",
      "    Graduate       0.81      0.93      0.86       442\n",
      "\n",
      "    accuracy                           0.77       885\n",
      "   macro avg       0.71      0.68      0.69       885\n",
      "weighted avg       0.75      0.77      0.76       885\n",
      "\n"
     ]
    },
    {
     "data": {
      "image/png": "[encoded data removed]",
      "text/plain": [
       "<Figure size 750x600 with 1 Axes>"
      ]
     },
     "metadata": {},
     "output_type": "display_data"
    },
    {
     "name": "stdout",
     "output_type": "stream",
     "text": [
      "=== k-NN (tuned) - Test Metrics ===\n",
      "Accuracy: 0.7040\n",
      "Averages:\n",
      "macro     P=0.6362 R=0.6152  F1=0.6208\n",
      "micro     P=0.7040 R=0.7040  F1=0.7040\n",
      "weighted  P=0.6873 R=0.7040  F1=0.6915\n",
      "\n",
      "Per-class classification report:\n",
      "              precision    recall  f1-score   support\n",
      "\n",
      "     Dropout       0.74      0.68      0.71       284\n",
      "    Enrolled       0.42      0.30      0.35       159\n",
      "    Graduate       0.75      0.86      0.80       442\n",
      "\n",
      "    accuracy                           0.70       885\n",
      "   macro avg       0.64      0.62      0.62       885\n",
      "weighted avg       0.69      0.70      0.69       885\n",
      "\n"
     ]
    },
    {
     "data": {
      "image/png": "[encoded data removed]",
      "text/plain": [
       "<Figure size 750x600 with 1 Axes>"
      ]
     },
     "metadata": {},
     "output_type": "display_data"
    },
    {
     "data": {
      "text/html": [
       "<div>\n",
       "<style scoped>\n",
       "    .dataframe tbody tr th:only-of-type {\n",
       "        vertical-align: middle;\n",
       "    }\n",
       "\n",
       "    .dataframe tbody tr th {\n",
       "        vertical-align: top;\n",
       "    }\n",
       "\n",
       "    .dataframe thead th {\n",
       "        text-align: right;\n",
       "    }\n",
       "</style>\n",
       "<table border=\"1\" class=\"dataframe\">\n",
       "  <thead>\n",
       "    <tr style=\"text-align: right;\">\n",
       "      <th></th>\n",
       "      <th>accuracy</th>\n",
       "      <th>macro_precision</th>\n",
       "      <th>macro_recall</th>\n",
       "      <th>macro_f1</th>\n",
       "      <th>micro_precision</th>\n",
       "      <th>weighted_recall</th>\n",
       "      <th>weighted_f1</th>\n",
       "    </tr>\n",
       "  </thead>\n",
       "  <tbody>\n",
       "    <tr>\n",
       "      <th>LogReg (tuned)</th>\n",
       "      <td>0.7718</td>\n",
       "      <td>0.7130</td>\n",
       "      <td>0.6804</td>\n",
       "      <td>0.6882</td>\n",
       "      <td>0.7544</td>\n",
       "      <td>0.7718</td>\n",
       "      <td>0.7571</td>\n",
       "    </tr>\n",
       "    <tr>\n",
       "      <th>k-NN (tuned)</th>\n",
       "      <td>0.7040</td>\n",
       "      <td>0.6362</td>\n",
       "      <td>0.6152</td>\n",
       "      <td>0.6208</td>\n",
       "      <td>0.6873</td>\n",
       "      <td>0.7040</td>\n",
       "      <td>0.6915</td>\n",
       "    </tr>\n",
       "  </tbody>\n",
       "</table>\n",
       "</div>"
      ],
      "text/plain": [
       "                accuracy  macro_precision  macro_recall  macro_f1  \\\n",
       "LogReg (tuned)    0.7718           0.7130        0.6804    0.6882   \n",
       "k-NN (tuned)      0.7040           0.6362        0.6152    0.6208   \n",
       "\n",
       "                micro_precision  weighted_recall  weighted_f1  \n",
       "LogReg (tuned)           0.7544           0.7718       0.7571  \n",
       "k-NN (tuned)             0.6873           0.7040       0.6915  "
      ]
     },
     "metadata": {},
     "output_type": "display_data"
    }
   ],
   "source": [
    "# Confusion matrics\n",
    "# Accuracy, Precision, Recall, and F1-score With hyperparamters\n",
    "from matplotlib.pyplot import xticks\n",
    "from sklearn.metrics import (\n",
    "    accuracy_score, precision_recall_fscore_support, \n",
    "    classification_report, confusion_matrix, ConfusionMatrixDisplay\n",
    ")\n",
    "\n",
    "def evaluate_model(name, estimator, X_test, y_test): \n",
    "    #compute required metrics and show confusion matrix \n",
    "    y_pred = estimator.predict(X_test) \n",
    "\n",
    "    #accuracy overall \n",
    "    acc = accuracy_score(y_test, y_pred) \n",
    "\n",
    "    #macro/micro/weighted precision/recall/f1 score \n",
    "    avgs = {} \n",
    "    for avg in [\"macro\", \"micro\", \"weighted\"]: \n",
    "        p, r, f1, _ = precision_recall_fscore_support(y_test, y_pred, average=avg, zero_division=0)\n",
    "        avgs[avg] = {\"precision\": p, \"recall\": r, \"f1\": f1} \n",
    "\n",
    "    # per-class report \n",
    "    report = classification_report(y_test, y_pred, zero_division=0)\n",
    "    print(f\"=== {name} - Test Metrics ===\") \n",
    "    print(f\"Accuracy: {acc:.4f}\") \n",
    "    print(\"Averages:\") \n",
    "    for k, v in avgs.items(): \n",
    "        print(f\"{k:8s}  P={v['precision']:.4f} R={v['recall']:.4f}  F1={v['f1']:.4f}\")\n",
    "    print(\"\\nPer-class classification report:\") \n",
    "    print(report) \n",
    "\n",
    "\n",
    "    # Confusion matrix (class level mistakes) \n",
    "    labels = np.unique(np.concatenate([y_test, y_pred])) \n",
    "    cm = confusion_matrix(y_test, y_pred, labels=labels) \n",
    "    disp = ConfusionMatrixDisplay(confusion_matrix=cm, display_labels=labels) \n",
    "    fig, ax = plt.subplots(figsize = (7.5, 6))\n",
    "    disp.plot(ax=ax, xticks_rotation=45, colorbar=False) \n",
    "    ax.set_title(f\"{name} - Confusion Matrix\") \n",
    "    plt.tight_layout() \n",
    "    plt.show() \n",
    "\n",
    "    #return a compact dict for optional comparison tables \n",
    "    row = {\"accuracy\": acc, \n",
    "           \"macro_precision\": avgs[\"macro\"][\"precision\"], \"macro_recall\": avgs[\"macro\"][\"recall\"], \"macro_f1\": avgs[\"macro\"][\"f1\"], \n",
    "           \"micro_precision\": avgs[\"weighted\"][\"precision\"], \"weighted_recall\": avgs[\"weighted\"][\"recall\"], \"weighted_f1\": avgs[\"weighted\"][\"f1\"]}\n",
    "    return row\n",
    "\n",
    "#Evaluate tuned LogReg and tuned k-NN \n",
    "rows = {} \n",
    "rows[\"LogReg (tuned)\"] = evaluate_model(\"LogReg (tuned)\", grid_lr.best_estimator_, X_test, y_test) \n",
    "rows[\"k-NN (tuned)\"] = evaluate_model(\"k-NN (tuned)\", grid_knn.best_estimator_, X_test, y_test) \n",
    "\n",
    "#comparison table \n",
    "comp_df = pd.DataFrame(rows).T \n",
    "display(comp_df.round(4))"
   ]
  }
 ],
 "metadata": {
  "kernelspec": {
   "display_name": "Python 3",
   "language": "python",
   "name": "python3"
  },
  "language_info": {
   "codemirror_mode": {
    "name": "ipython",
    "version": 3
   },
   "file_extension": ".py",
   "mimetype": "text/x-python",
   "name": "python",
   "nbconvert_exporter": "python",
   "pygments_lexer": "ipython3",
   "version": "3.8.9"
  }
 },
 "nbformat": 4,
 "nbformat_minor": 5
}
